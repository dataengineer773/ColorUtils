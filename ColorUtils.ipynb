{
 "cells": [
  {
   "cell_type": "code",
   "execution_count": 2,
   "id": "52b424d2-8eeb-4e5e-91a8-b75e5c752f65",
   "metadata": {},
   "outputs": [],
   "source": [
    "import re\n",
    "\n",
    "import matplotlib.pyplot as plt\n",
    "from matplotlib.colors import ListedColormap\n",
    "import numpy as np"
   ]
  },
  {
   "cell_type": "code",
   "execution_count": 3,
   "id": "e15d5eaa-f1bc-4290-9759-cc1d3de877f4",
   "metadata": {},
   "outputs": [],
   "source": [
    "def hex_to_rgb_color_list(colors):\n",
    "    \"\"\"\n",
    "    Take color or list of hex code colors and convert them \n",
    "    to RGB colors in the range [0,1].\n",
    "    \n",
    "    Parameters:\n",
    "        - colors: Color or list of color strings of the format \n",
    "                  '#FFF' or '#FFFFFF'\n",
    "    \n",
    "    Returns:\n",
    "        The color or list of colors in RGB representation.\n",
    "    \"\"\"\n",
    "    if isinstance(colors, str):\n",
    "        colors = [colors]\n",
    "    \n",
    "    for i, color in enumerate(\n",
    "        [color.replace('#', '') for color in colors]\n",
    "    ):\n",
    "        hex_length = len(color)\n",
    "        \n",
    "        if hex_length not in [3, 6]:\n",
    "            raise ValueError(\n",
    "                'Your colors must be of the form #FFFFFF or #FFFFFF'\n",
    "            )\n",
    "        \n",
    "        regex = '.' * (hex_length // 3)\n",
    "        colors[i] = [\n",
    "            int(val * (6 // hex_length), 16)/255 \\\n",
    "            for val in re.findall(regex, color)\n",
    "        ]\n",
    "    \n",
    "    return colors[0] if len(colors) == 1 else colors"
   ]
  },
  {
   "cell_type": "code",
   "execution_count": 4,
   "id": "6a4817ff-8835-4bc3-aeca-d6305c07193a",
   "metadata": {},
   "outputs": [],
   "source": [
    "def two_color_sequential_cmap(rgb_color_list):\n",
    "    \"\"\"\n",
    "    Created a sequential colormap blending from one color to the other.\n",
    "    \n",
    "    Parameters:\n",
    "        - rgb_color_list: A list of colors represented as [R, G, B] values\n",
    "                          in the range [0, 1], like [[0, 0, 0], [1, 1, 1]], \n",
    "                          for black and white, respectively.\n",
    "    \n",
    "    Returns:\n",
    "        A matplotlib ListedColormap object with your colormap.\n",
    "    \"\"\"\n",
    "    if not isinstance(rgb_color_list, list):\n",
    "        raise ValueError('Colors must be passed as a list!')\n",
    "    elif len(rgb_color_list) != 2:\n",
    "        raise ValueError(\n",
    "            'Can only specify two colors; '\n",
    "            'one for each end of the spectrum.'\n",
    "        )\n",
    "    elif (\n",
    "        not isinstance(rgb_color_list[0], list) or not isinstance(rgb_color_list[1], list)\n",
    "    ) or (\n",
    "        len(rgb_color_list[0]) != 3 or len(rgb_color_list[1]) != 3\n",
    "    ):\n",
    "        raise ValueError('Each color should be represented as a list of size 3.')\n",
    "    \n",
    "    N = 256\n",
    "    entries = 4 # red, green, blue, alpha\n",
    "    rgbas = np.ones((N, entries))\n",
    "    for i in range(entries - 1): # we don't alter alphas\n",
    "        rgbas[:, i] = np.linspace(\n",
    "            start=rgb_color_list[0][i], \n",
    "            stop=rgb_color_list[1][i], \n",
    "            num=N\n",
    "        )\n",
    "    \n",
    "    return ListedColormap(rgbas)"
   ]
  },
  {
   "cell_type": "code",
   "execution_count": 5,
   "id": "c6a18794-afd0-4abc-af45-0a551ffe0590",
   "metadata": {},
   "outputs": [],
   "source": [
    "def draw_cmap(cmap):\n",
    "    \"\"\"\n",
    "    Draw a colorbar for visualizing a colormap.\n",
    "    \n",
    "    Parameters:\n",
    "        - cmap: A matplotlib colormap\n",
    "        \n",
    "    Returns:\n",
    "        A matplotlib colorbar, which you can save with:\n",
    "        `plt.savefig(<file_name>, bbox_inches='tight')`\n",
    "    \"\"\"\n",
    "    img = plt.imshow(np.array([[0,1]]), cmap=cmap)\n",
    "    cbar = plt.colorbar(orientation='horizontal', cmap=cmap)\n",
    "    img.axes.remove()\n",
    "    return cbar"
   ]
  },
  {
   "cell_type": "code",
   "execution_count": null,
   "id": "a8f160ce-1ac3-49a5-8d42-da8772194e15",
   "metadata": {},
   "outputs": [],
   "source": []
  }
 ],
 "metadata": {
  "kernelspec": {
   "display_name": "Python 3 (ipykernel)",
   "language": "python",
   "name": "python3"
  },
  "language_info": {
   "codemirror_mode": {
    "name": "ipython",
    "version": 3
   },
   "file_extension": ".py",
   "mimetype": "text/x-python",
   "name": "python",
   "nbconvert_exporter": "python",
   "pygments_lexer": "ipython3",
   "version": "3.10.12"
  }
 },
 "nbformat": 4,
 "nbformat_minor": 5
}
